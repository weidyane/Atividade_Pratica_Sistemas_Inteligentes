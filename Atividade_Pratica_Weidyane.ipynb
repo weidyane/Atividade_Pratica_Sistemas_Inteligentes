{
  "nbformat": 4,
  "nbformat_minor": 0,
  "metadata": {
    "colab": {
      "provenance": []
    },
    "kernelspec": {
      "name": "python3",
      "display_name": "Python 3"
    },
    "language_info": {
      "name": "python"
    }
  },
  "cells": [
    {
      "cell_type": "markdown",
      "source": [
        "Preparando os dados"
      ],
      "metadata": {
        "id": "H93h3b5LfJVT"
      }
    },
    {
      "cell_type": "code",
      "execution_count": 16,
      "metadata": {
        "colab": {
          "base_uri": "https://localhost:8080/"
        },
        "id": "_91zH7sMOby2",
        "outputId": "0253c48c-6b36-4a21-abb7-9cba266a7953"
      },
      "outputs": [
        {
          "output_type": "stream",
          "name": "stderr",
          "text": [
            "<ipython-input-16-f1a5937eb222>:13: SettingWithCopyWarning: \n",
            "A value is trying to be set on a copy of a slice from a DataFrame.\n",
            "Try using .loc[row_indexer,col_indexer] = value instead\n",
            "\n",
            "See the caveats in the documentation: https://pandas.pydata.org/pandas-docs/stable/user_guide/indexing.html#returning-a-view-versus-a-copy\n",
            "  x['Sex'] = x['Sex'].map({'male':0, 'female':1})\n"
          ]
        }
      ],
      "source": [
        "# prompt: leia o arquivo titanic.csv\n",
        "\n",
        "import pandas as pd\n",
        "from sklearn.model_selection import train_test_split\n",
        "\n",
        "df = pd.read_csv('titanic.csv')\n",
        "\n",
        "#df.head()\n",
        "\n",
        "features = ['Pclass', 'Sex', 'Age', 'Fare', 'SibSp', 'Parch']\n",
        "\n",
        "x = df[features] #selecionando os atributos\n",
        "x['Sex'] = x['Sex'].map({'male':0, 'female':1})\n",
        "\n",
        "y = df['Survived']\n",
        "\n",
        "x = x.fillna(x.mean()) #trocando dados corrompidos pela média da coluna\n",
        "\n",
        "x_train, x_test, y_train, y_test = train_test_split(x, y, test_size=0.2, random_state=42)\n"
      ]
    },
    {
      "cell_type": "markdown",
      "source": [
        "Classificador Árvore de Decisão"
      ],
      "metadata": {
        "id": "cKvtQ8OUme_d"
      }
    },
    {
      "cell_type": "code",
      "source": [
        "from sklearn.tree import DecisionTreeClassifier\n",
        "from sklearn.tree import export_text\n",
        "from sklearn.metrics import accuracy_score\n",
        "\n",
        "#criando o classificador\n",
        "decision_tree_classifier = DecisionTreeClassifier()\n",
        "\n",
        "decision_tree_classifier.fit(x_train, y_train)\n",
        "\n",
        "tree_rules = export_text(decision_tree_classifier)\n",
        "\n",
        "tree_rules = export_text(decision_tree_classifier, feature_names=features)\n",
        "\n",
        "#print(tree_rules)\n",
        "\n",
        "predictions = decision_tree_classifier.predict(x_test)\n",
        "\n",
        "accuracy = accuracy_score(y_test, predictions)\n",
        "print(\"Precisão: \", accuracy)"
      ],
      "metadata": {
        "colab": {
          "base_uri": "https://localhost:8080/"
        },
        "id": "TxIuo4qgmmWN",
        "outputId": "3d0bff8a-de0a-475a-93e4-baaaa8108f25"
      },
      "execution_count": 15,
      "outputs": [
        {
          "output_type": "stream",
          "name": "stdout",
          "text": [
            "Precisão:  0.770949720670391\n"
          ]
        }
      ]
    },
    {
      "cell_type": "code",
      "source": [
        "from sklearn.neural_network import MLPClassifier\n",
        "from sklearn.metrics import accuracy_score\n",
        "\n",
        "mlp = MLPClassifier(hidden_layer_sizes=(10, 5), max_iter=1000, random_state=42)\n",
        "\n",
        "mlp.fit(x_train, y_train)\n",
        "\n",
        "predictions = mlp.predict(x_test)\n",
        "\n",
        "accuracy = accuracy_score(y_test, predictions)\n",
        "print(\"Precisão: \", accuracy)"
      ],
      "metadata": {
        "colab": {
          "base_uri": "https://localhost:8080/"
        },
        "id": "gCiJMR7ivekE",
        "outputId": "9225496b-9249-4761-b8de-b6281d196634"
      },
      "execution_count": 17,
      "outputs": [
        {
          "output_type": "stream",
          "name": "stdout",
          "text": [
            "Precisão:  0.8044692737430168\n"
          ]
        }
      ]
    }
  ]
}